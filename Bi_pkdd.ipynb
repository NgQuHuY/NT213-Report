{
 "cells": [
  {
   "cell_type": "code",
   "execution_count": 2,
   "metadata": {
    "id": "kerdZbaS_vXK"
   },
   "outputs": [],
   "source": [
    "import re\n",
    "import numpy as np\n",
    "from numpy import array\n",
    "import csv\n",
    "import random\n",
    "import pandas as pd\n",
    "import re\n",
    "from urllib.parse import unquote\n",
    "\n",
    "data = pd.read_csv('emcl_extract_bi.csv')\n",
    "X = data[['method','uri','query','protocol','host','connection','accept',\n",
    "'accept_charset','accept_language','cache_control','cookie','pragma','user_agent','content_length','content_type']]\n",
    "y = data['label']\n",
    "\n",
    "X_string = []\n",
    "cols = X.columns\n",
    "for i in range(len(X)):\n",
    "    temp = ''\n",
    "    for col in cols:\n",
    "        temp += \" \" + str(X.iloc[i][col])\n",
    "    ans = ''\n",
    "    for t in temp:\n",
    "        ans += t\n",
    "    \n",
    "    \n",
    "    ans =  unquote(ans)\n",
    "    \n",
    "    ans = ans.lower()\n",
    "    \n",
    "    special_chars = ['/','&','=','+', ';', ',']\n",
    "    for char in special_chars:\n",
    "      ans = ans.replace(char, ' ')\n",
    "    \n",
    "    \n",
    "    # Xóa các khoảng trắng thừa\n",
    "    ans = ' '.join(ans.split())\n",
    "\n",
    "    X_string.append(ans)\n",
    "    "
   ]
  },
  {
   "cell_type": "code",
   "execution_count": 3,
   "metadata": {
    "scrolled": true
   },
   "outputs": [
    {
     "name": "stdout",
     "output_type": "stream",
     "text": [
      "put j.t.passthruy2perlartzq.s xamj eykrkw6mrz7ip_ 93osesewhnbuensesi.bin nan http 1.0 www.rt7hoa.cz close * * utf-8 ar-s q 0.1 r-hyha q 0.1 nayi ssr jtlikehmykfzz c< tnruqusln sq34y@45xqa ltud9 38518 wawdeplysn 16 9airq2 copyt5a a5 dartoeta taoupeabin 115.0 application x-www-form-urlencoded\n"
     ]
    }
   ],
   "source": [
    "print(X_string[154])"
   ]
  },
  {
   "cell_type": "code",
   "execution_count": 4,
   "metadata": {
    "colab": {
     "base_uri": "https://localhost:8080/"
    },
    "id": "G2_G4W3fqRbf",
    "outputId": "c10bbd96-6c24-44bc-d685-5737fae428c5",
    "scrolled": true
   },
   "outputs": [
    {
     "name": "stdout",
     "output_type": "stream",
     "text": [
      "50116\n",
      "65\n",
      "[  5 601   3   4   8  14   2   2 125 135 114 111   2  31   9 210  37  83\n",
      " 252  45  42  41   3   3   0   0   0   0   0   0   0   0   0   0   0   0\n",
      "   0   0   0   0   0   0   0   0   0   0   0   0   0   0   0   0   0   0\n",
      "   0   0   0   0   0   0   0   0   0   0   0]\n"
     ]
    }
   ],
   "source": [
    "from keras.preprocessing.text import Tokenizer\n",
    "from tensorflow.keras.preprocessing.sequence import pad_sequences\n",
    "\n",
    "\n",
    "tokenizer = Tokenizer(filters = '', num_words = 3000)\n",
    "tokenizer.fit_on_texts(X_string)\n",
    "\n",
    "\n",
    "sequences = tokenizer.texts_to_sequences(X_string)\n",
    "pad = pad_sequences(sequences,padding='post')\n",
    "\n",
    "print(len(pad))\n",
    "print(len(pad[1]))\n",
    "print(pad[0])"
   ]
  },
  {
   "cell_type": "code",
   "execution_count": 5,
   "metadata": {
    "id": "eC_zgeYZBh8U"
   },
   "outputs": [],
   "source": [
    "import random\n",
    "import numpy as np\n",
    "\n",
    "def da_sana_algorithm(dataset, sequences, f):\n",
    "\n",
    "    au_dataset = []\n",
    "    L = [len(req) for req in dataset]\n",
    "    L_min = min(L)\n",
    "    L_max = max(L)\n",
    "    mean = (f + 2*f) / 2\n",
    "    stddev = (2*f - f) / 4\n",
    "\n",
    "    for request, Si  in zip(dataset, sequences ):\n",
    "\n",
    "        length = len(request)\n",
    "        L_normalized = (length - L_min) / (L_max - L_min)\n",
    "\n",
    "\n",
    "        Ci = np.random.binomial(1, L_normalized*0.05 ,len(Si))\n",
    "\n",
    "        Ni_Gauss = np.random.normal(mean, stddev, len(Si))\n",
    "        Ni = abs(Ni_Gauss).astype(int)\n",
    "        \n",
    "\n",
    "        au_dataset.append(np.array(Si)*(Ci^1) + Ni*Ci)\n",
    "\n",
    "\n",
    "    return au_dataset"
   ]
  },
  {
   "cell_type": "code",
   "execution_count": 6,
   "metadata": {
    "colab": {
     "base_uri": "https://localhost:8080/"
    },
    "id": "DrD814vzEJlx",
    "outputId": "f06a770b-a932-48f0-b40f-358a94639aff"
   },
   "outputs": [
    {
     "name": "stdout",
     "output_type": "stream",
     "text": [
      "(100232, 65)\n",
      "(100232,)\n",
      "<class 'numpy.int32'>\n",
      "[   5  744   47   49   49   74 1334    4    7   14    2    2    1   23\n",
      "  143    1   19  124    1   17  103   98    1   15  115    1   16   35\n",
      "   75   33    3    3    0    0    0    0    0    0    0    0    0    0\n",
      "    0    0    0    0    0    0    0    0    0    0    0    0    0    0\n",
      "    0    0    0    0    0    0    0    0    0]\n"
     ]
    }
   ],
   "source": [
    "\n",
    "au_seq = np.array([*pad, *da_sana_algorithm(X_string,pad,3000)])\n",
    "lable = np.array([*y,*y]).astype(np.int32)\n",
    "\n",
    "print(au_seq.shape)\n",
    "print(lable.shape)\n",
    "print(type(lable[0]))\n",
    "\n",
    "print(au_seq[3])"
   ]
  },
  {
   "cell_type": "code",
   "execution_count": 7,
   "metadata": {},
   "outputs": [],
   "source": [
    "labels={'Valid':0, 'Invalid':1}"
   ]
  },
  {
   "cell_type": "code",
   "execution_count": 15,
   "metadata": {
    "scrolled": true
   },
   "outputs": [
    {
     "name": "stdout",
     "output_type": "stream",
     "text": [
      "Model: \"sequential_6\"\n",
      "_________________________________________________________________\n",
      " Layer (type)                Output Shape              Param #   \n",
      "=================================================================\n",
      " embedding_6 (Embedding)     (None, 65, 16)            160000    \n",
      "                                                                 \n",
      " bidirectional_12 (Bidirecti  (None, 65, 256)          148480    \n",
      " onal)                                                           \n",
      "                                                                 \n",
      " bidirectional_13 (Bidirecti  (None, 256)              394240    \n",
      " onal)                                                           \n",
      "                                                                 \n",
      " dense_6 (Dense)             (None, 2)                 514       \n",
      "                                                                 \n",
      "=================================================================\n",
      "Total params: 703,234\n",
      "Trainable params: 703,234\n",
      "Non-trainable params: 0\n",
      "_________________________________________________________________\n",
      "None\n",
      "Epoch 1/10\n",
      "470/470 [==============================] - 4215s 9s/step - loss: 0.2333 - accuracy: 0.9117 - val_loss: 0.1646 - val_accuracy: 0.9479\n",
      "Epoch 2/10\n",
      "470/470 [==============================] - 5603s 12s/step - loss: 0.1447 - accuracy: 0.9509 - val_loss: 0.1359 - val_accuracy: 0.9543\n",
      "Epoch 3/10\n",
      "470/470 [==============================] - 7443s 16s/step - loss: 0.1289 - accuracy: 0.9558 - val_loss: 0.1335 - val_accuracy: 0.9562\n",
      "Epoch 4/10\n",
      "470/470 [==============================] - 4102s 9s/step - loss: 0.1202 - accuracy: 0.9596 - val_loss: 0.1308 - val_accuracy: 0.9555\n",
      "Epoch 5/10\n",
      "470/470 [==============================] - 4656s 10s/step - loss: 0.1120 - accuracy: 0.9619 - val_loss: 0.1278 - val_accuracy: 0.9566\n",
      "Epoch 6/10\n",
      "470/470 [==============================] - 5273s 11s/step - loss: 0.1067 - accuracy: 0.9633 - val_loss: 0.1219 - val_accuracy: 0.9594\n",
      "Epoch 7/10\n",
      "470/470 [==============================] - 5304s 11s/step - loss: 0.1018 - accuracy: 0.9650 - val_loss: 0.1195 - val_accuracy: 0.9605\n",
      "Epoch 8/10\n",
      "470/470 [==============================] - 5514s 12s/step - loss: 0.0960 - accuracy: 0.9665 - val_loss: 0.1161 - val_accuracy: 0.9611\n",
      "Epoch 9/10\n",
      "470/470 [==============================] - 6444s 14s/step - loss: 0.0927 - accuracy: 0.9684 - val_loss: 0.1203 - val_accuracy: 0.9587\n",
      "Epoch 10/10\n",
      "470/470 [==============================] - 6213s 13s/step - loss: 0.0888 - accuracy: 0.9694 - val_loss: 0.1168 - val_accuracy: 0.9618\n",
      "627/627 [==============================] - 512s 817ms/step - loss: 0.1175 - accuracy: 0.9623\n",
      "Test Accuracy: 0.9622886180877686\n",
      "627/627 [==============================] - 521s 828ms/step\n",
      "Accuracy per Label: {'Valid': 0.9938914840100611, 'Invalid': 0.8905740378343118}\n"
     ]
    }
   ],
   "source": [
    "from keras import models\n",
    "from keras import layers\n",
    "from keras.layers import Embedding, Dense, Dropout, LSTM, Bidirectional\n",
    "from sklearn.model_selection import train_test_split\n",
    "from keras.models import Sequential\n",
    "from sklearn.metrics import accuracy_score\n",
    "\n",
    "# split the data into training, validation, and testing sets\n",
    "train_X, test_X, train_y, test_y = train_test_split(au_seq, lable, test_size=0.2, random_state=42)\n",
    "train_X, val_X, train_y, val_y = train_test_split(train_X, train_y, test_size=0.25, random_state=42)\n",
    "\n",
    "# size of the vector space in which characters will be embedded\n",
    "embedding_dim = 16\n",
    "max_chars = 10000\n",
    "\n",
    "def build_model():\n",
    "    model = Sequential()\n",
    "    model.add(Embedding(max_chars, embedding_dim, input_length=train_X.shape[1]))\n",
    "    model.add(Bidirectional(LSTM(units=128, activation='tanh', dropout=0.5, recurrent_dropout=0.5, return_sequences=True)))\n",
    "    model.add(Bidirectional(LSTM(units=128, activation='tanh', dropout=0.5, recurrent_dropout=0.5)))\n",
    "    model.add(Dense(2, activation='softmax'))\n",
    "    model.compile(optimizer='adam', loss='SparseCategoricalCrossentropy', metrics=['accuracy'])\n",
    "    return model\n",
    "\n",
    "model = build_model()\n",
    "print(model.summary())\n",
    "\n",
    "model.fit(train_X, train_y, epochs=10, batch_size=128, validation_data=(val_X, val_y))\n",
    "\n",
    "test_loss, test_acc = model.evaluate(test_X, test_y)\n",
    "print(\"Test Accuracy:\", test_acc)\n",
    "\n",
    "# Predicting labels for test data\n",
    "y_pred = np.argmax(model.predict(test_X), axis=-1)\n",
    "\n",
    "# Calculating accuracy for each label\n",
    "accuracy_per_label = {}\n",
    "for label in labels:\n",
    "    indices = np.where(test_y == labels[label])\n",
    "    accuracy_per_label[label] = accuracy_score(test_y[indices], y_pred[indices])\n",
    "\n",
    "print(\"Accuracy per Label:\", accuracy_per_label)"
   ]
  },
  {
   "cell_type": "code",
   "execution_count": 16,
   "metadata": {},
   "outputs": [
    {
     "name": "stdout",
     "output_type": "stream",
     "text": [
      "              precision    recall  f1-score   support\n",
      "\n",
      "       Valid       0.95      0.99      0.97     13915\n",
      "     Invalid       0.98      0.89      0.94      6132\n",
      "\n",
      "    accuracy                           0.96     20047\n",
      "   macro avg       0.97      0.94      0.95     20047\n",
      "weighted avg       0.96      0.96      0.96     20047\n",
      "\n"
     ]
    },
    {
     "data": {
      "text/plain": [
       "<sklearn.metrics._plot.confusion_matrix.ConfusionMatrixDisplay at 0x16b005bd450>"
      ]
     },
     "execution_count": 16,
     "metadata": {},
     "output_type": "execute_result"
    },
    {
     "data": {
      "image/png": "[encoded data removed]",
      "text/plain": [
       "<Figure size 640x480 with 2 Axes>"
      ]
     },
     "metadata": {},
     "output_type": "display_data"
    }
   ],
   "source": [
    "from sklearn.metrics import confusion_matrix, ConfusionMatrixDisplay, classification_report\n",
    "\n",
    "print(classification_report(test_y, y_pred, target_names=labels))\n",
    "\n",
    "ConfusionMatrixDisplay.from_predictions(test_y, y_pred, display_labels= labels, xticks_rotation = 'vertical')\n"
   ]
  },
  {
   "cell_type": "code",
   "execution_count": null,
   "metadata": {},
   "outputs": [],
   "source": []
  }
 ],
 "metadata": {
  "colab": {
   "provenance": []
  },
  "kernelspec": {
   "display_name": "Python 3 (ipykernel)",
   "language": "python",
   "name": "python3"
  },
  "language_info": {
   "codemirror_mode": {
    "name": "ipython",
    "version": 3
   },
   "file_extension": ".py",
   "mimetype": "text/x-python",
   "name": "python",
   "nbconvert_exporter": "python",
   "pygments_lexer": "ipython3",
   "version": "3.10.9"
  }
 },
 "nbformat": 4,
 "nbformat_minor": 1
}
